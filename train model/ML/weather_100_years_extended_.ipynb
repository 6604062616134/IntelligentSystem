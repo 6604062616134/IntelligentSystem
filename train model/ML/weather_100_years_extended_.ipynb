{
  "cells": [
    {
      "cell_type": "code",
      "execution_count": null,
      "metadata": {
        "id": "bLfBjITLG6Wb"
      },
      "outputs": [],
      "source": [
        "import pandas as pd\n",
        "import numpy as np\n",
        "import joblib\n",
        "import matplotlib.pyplot as plt\n",
        "import seaborn as sns\n",
        "from sklearn.impute import SimpleImputer\n",
        "from sklearn.preprocessing import StandardScaler\n",
        "from sklearn.model_selection import train_test_split, GridSearchCV\n",
        "from sklearn.metrics import mean_absolute_error, mean_squared_error, r2_score\n",
        "from sklearn.ensemble import VotingRegressor, StackingRegressor\n",
        "from sklearn.tree import DecisionTreeRegressor\n",
        "from sklearn.neighbors import KNeighborsRegressor\n",
        "from sklearn.model_selection import RandomizedSearchCV\n",
        "from sklearn.svm import SVR\n",
        "from sklearn.ensemble import RandomForestRegressor\n",
        "from xgboost import XGBRegressor\n",
        "from sklearn.preprocessing import LabelEncoder"
      ]
    },
    {
      "cell_type": "code",
      "execution_count": null,
      "metadata": {
        "id": "j1owsw6XHvju"
      },
      "outputs": [],
      "source": [
        "# โหลดข้อมูลจากไฟล์ CSV\n",
        "file_name = 'weather_100_years_extended (1).csv'\n",
        "data = pd.read_csv(file_name)"
      ]
    },
    {
      "cell_type": "code",
      "execution_count": null,
      "metadata": {
        "colab": {
          "base_uri": "https://localhost:8080/"
        },
        "id": "L1dj-Zd0Lt4q",
        "outputId": "eeb9cb45-8bff-4c7f-c301-a570a920d79a"
      },
      "outputs": [
        {
          "output_type": "stream",
          "name": "stdout",
          "text": [
            "ข้อมูลเบื้องต้น:\n",
            "          date   country     city  temperature (°C)  humidity (%)  \\\n",
            "0  1925-01-01  Thailand  Bangkok         28.488867     63.548650   \n",
            "1  1925-01-02  Thailand  Bangkok         28.992703     95.005496   \n",
            "2  1925-01-03  Thailand  Bangkok         21.070264     99.813784   \n",
            "3  1925-01-04  Thailand  Bangkok         32.380113     76.746228   \n",
            "4  1925-01-05  Thailand  Bangkok               NaN     61.691885   \n",
            "\n",
            "   wind_speed (km/h)  \n",
            "0          29.789863  \n",
            "1          25.575581  \n",
            "2           1.543178  \n",
            "3           4.649422  \n",
            "4          31.451403  \n",
            "ข้อมูลที่หายไปในแต่ละคอลัมน์:\n",
            " date                    0\n",
            "country                 0\n",
            "city                    0\n",
            "temperature (°C)     8528\n",
            "humidity (%)         8549\n",
            "wind_speed (km/h)    8473\n",
            "dtype: int64\n"
          ]
        }
      ],
      "source": [
        "# แสดงข้อมูลเบื้องต้น\n",
        "print(\"ข้อมูลเบื้องต้น:\\n\", data.head())\n",
        "print(\"ข้อมูลที่หายไปในแต่ละคอลัมน์:\\n\", data.isnull().sum())\n"
      ]
    },
    {
      "cell_type": "code",
      "execution_count": null,
      "metadata": {
        "id": "py13lsJnH3zR"
      },
      "outputs": [],
      "source": [
        "# ตรวจสอบคอลัมน์ที่ต้องการ\n",
        "required_columns = ['date', 'country', 'city', 'temperature (°C)', 'humidity (%)', 'wind_speed (km/h)']\n",
        "for col in required_columns:\n",
        "    if col not in data.columns:\n",
        "        raise ValueError(f\"Missing required column: {col}\")"
      ]
    },
    {
      "cell_type": "code",
      "execution_count": null,
      "metadata": {
        "colab": {
          "base_uri": "https://localhost:8080/"
        },
        "id": "3_YnqsT-L5O8",
        "outputId": "2eab14bd-1c21-4637-8894-78600723e3fa"
      },
      "outputs": [
        {
          "output_type": "stream",
          "name": "stdout",
          "text": [
            "คอลัมน์ที่ได้จาก One-Hot Encoding:\n",
            " Index(['date', 'temperature (°C)', 'humidity (%)', 'wind_speed (km/h)',\n",
            "       'country_France', 'country_Japan', 'country_South Korea',\n",
            "       'country_Thailand', 'country_UK', 'country_USA', 'city_Beijing',\n",
            "       'city_London', 'city_New York', 'city_Paris', 'city_Seoul',\n",
            "       'city_Tokyo'],\n",
            "      dtype='object')\n",
            "         date  temperature (°C)  humidity (%)  wind_speed (km/h)  \\\n",
            "0  1925-01-01         28.488867     63.548650          29.789863   \n",
            "1  1925-01-02         28.992703     95.005496          25.575581   \n",
            "2  1925-01-03         21.070264     99.813784           1.543178   \n",
            "3  1925-01-04         32.380113     76.746228           4.649422   \n",
            "4  1925-01-05               NaN     61.691885          31.451403   \n",
            "\n",
            "   country_France  country_Japan  country_South Korea  country_Thailand  \\\n",
            "0               0              0                    0                 1   \n",
            "1               0              0                    0                 1   \n",
            "2               0              0                    0                 1   \n",
            "3               0              0                    0                 1   \n",
            "4               0              0                    0                 1   \n",
            "\n",
            "   country_UK  country_USA  city_Beijing  city_London  city_New York  \\\n",
            "0           0            0             0            0              0   \n",
            "1           0            0             0            0              0   \n",
            "2           0            0             0            0              0   \n",
            "3           0            0             0            0              0   \n",
            "4           0            0             0            0              0   \n",
            "\n",
            "   city_Paris  city_Seoul  city_Tokyo  \n",
            "0           0           0           0  \n",
            "1           0           0           0  \n",
            "2           0           0           0  \n",
            "3           0           0           0  \n",
            "4           0           0           0  \n"
          ]
        }
      ],
      "source": [
        "# ลบคอลัมน์ที่ไม่จำเป็นสำหรับการพยากรณ์ (date, country, city)\n",
        "X = data.drop(columns=['date'])\n",
        "y_temp = data['temperature (°C)'].ffill()\n",
        "\n",
        "# แปลงข้อมูล 'country' เป็นตัวเลข (One-Hot Encoding)\n",
        "data = pd.get_dummies(data, columns=['country', 'city'], drop_first=True)\n",
        "\n",
        "# ตรวจสอบว่ามีคอลัมน์ใหม่ที่ถูกสร้างขึ้น\n",
        "print(\"คอลัมน์ที่ได้จาก One-Hot Encoding:\\n\", data.columns)\n",
        "\n",
        "# แปลงค่า True/False ให้เป็น 0/1 (ถ้ามี)\n",
        "bool_columns = data.select_dtypes(include=['bool']).columns\n",
        "data[bool_columns] = data[bool_columns].astype(int)\n",
        "\n",
        "# แสดงตัวอย่างข้อมูลที่แปลงแล้ว\n",
        "print(data.head())\n"
      ]
    },
    {
      "cell_type": "code",
      "execution_count": null,
      "metadata": {
        "id": "BjIG4m3HNDiw"
      },
      "outputs": [],
      "source": []
    },
    {
      "cell_type": "code",
      "execution_count": null,
      "metadata": {
        "colab": {
          "base_uri": "https://localhost:8080/"
        },
        "id": "uGsYYwHzMWDs",
        "outputId": "70386a14-4cab-4255-d8ae-48a7be232702"
      },
      "outputs": [
        {
          "output_type": "stream",
          "name": "stdout",
          "text": [
            "    country     city  temperature (°C)  humidity (%)  wind_speed (km/h)\n",
            "0  Thailand  Bangkok         28.488867     63.548650          29.789863\n",
            "1  Thailand  Bangkok         28.992703     95.005496          25.575581\n",
            "2  Thailand  Bangkok         21.070264     99.813784           1.543178\n",
            "3  Thailand  Bangkok         32.380113     76.746228           4.649422\n",
            "4  Thailand  Bangkok               NaN     61.691885          31.451403\n",
            "country                 0\n",
            "city                    0\n",
            "temperature (°C)     8528\n",
            "humidity (%)         8549\n",
            "wind_speed (km/h)    8473\n",
            "dtype: int64\n"
          ]
        }
      ],
      "source": [
        "print(X.head())  # ตรวจสอบข้อมูล X\n",
        "print(X.isnull().sum())  # ตรวจสอบค่าที่หายไป\n"
      ]
    },
    {
      "cell_type": "code",
      "execution_count": null,
      "metadata": {
        "colab": {
          "base_uri": "https://localhost:8080/"
        },
        "id": "cHdlxLnnL7Np",
        "outputId": "9128d86c-6b19-4438-e62b-8991d93cf00c"
      },
      "outputs": [
        {
          "output_type": "stream",
          "name": "stdout",
          "text": [
            "temperature (°C)     0\n",
            "humidity (%)         0\n",
            "wind_speed (km/h)    0\n",
            "country              0\n",
            "city                 0\n",
            "dtype: int64\n"
          ]
        }
      ],
      "source": [
        "# แยกข้อมูลตัวเลขและข้อมูลหมวดหมู่\n",
        "numeric_cols = X.select_dtypes(include=['number']).columns  # เลือกเฉพาะคอลัมน์ที่เป็นตัวเลข\n",
        "categorical_cols = X.select_dtypes(exclude=['number']).columns  # เลือกเฉพาะคอลัมน์ที่เป็นข้อความ\n",
        "\n",
        "# เติมค่าที่หายไปในข้อมูลตัวเลขด้วยค่าเฉลี่ย (mean)\n",
        "num_imputer = SimpleImputer(strategy='mean')\n",
        "X_numeric_imputed = pd.DataFrame(num_imputer.fit_transform(X[numeric_cols]), columns=numeric_cols)\n",
        "\n",
        "# เติมค่าที่หายไปในข้อมูลหมวดหมู่ด้วยค่าที่พบบ่อยที่สุด (most_frequent)\n",
        "cat_imputer = SimpleImputer(strategy='most_frequent')\n",
        "X_categorical_imputed = pd.DataFrame(cat_imputer.fit_transform(X[categorical_cols]), columns=categorical_cols)\n",
        "\n",
        "# รวมข้อมูลทั้งสองประเภทกลับมา\n",
        "X_imputed = pd.concat([X_numeric_imputed, X_categorical_imputed], axis=1)\n",
        "\n",
        "# แสดงข้อมูลที่เติมค่ากลับมา\n",
        "missing_values = X_imputed.isnull().sum()\n",
        "print(missing_values)\n",
        "\n"
      ]
    },
    {
      "cell_type": "markdown",
      "metadata": {
        "id": "kAKXlKgvBFG9"
      },
      "source": []
    },
    {
      "cell_type": "code",
      "execution_count": null,
      "metadata": {
        "id": "bLIgtl89swLC"
      },
      "outputs": [],
      "source": []
    },
    {
      "cell_type": "code",
      "execution_count": null,
      "metadata": {
        "id": "rxHcL9KWL8V0"
      },
      "outputs": [],
      "source": [
        "scaler = StandardScaler()\n",
        "X_scaled = pd.DataFrame(scaler.fit_transform(X_imputed[numeric_cols]), columns=numeric_cols)\n"
      ]
    },
    {
      "cell_type": "code",
      "execution_count": null,
      "metadata": {
        "id": "NrZut745L927"
      },
      "outputs": [],
      "source": [
        "X_train, X_test, y_train_temp, y_test_temp = train_test_split(\n",
        "    X_scaled, y_temp, train_size=0.2, random_state=42\n",
        ")\n",
        "\n",
        "\n"
      ]
    },
    {
      "cell_type": "markdown",
      "metadata": {
        "id": "0CUtBiMLPti0"
      },
      "source": []
    },
    {
      "cell_type": "code",
      "execution_count": null,
      "metadata": {
        "id": "73Hym0foL_KB"
      },
      "outputs": [],
      "source": [
        "# สร้างโมเดล RandomForest\n",
        "xgb = XGBRegressor(n_estimators=100, learning_rate=0.1, max_depth=5, random_state=42)\n",
        "xgb.fit(X_train, y_train_temp)\n",
        "\n",
        "y_pred_xgb = xgb.predict(X_test)\n",
        "\n",
        "\n",
        "#decision_tree = DecisionTreeRegressor(random_state=42)\n",
        "svm = SVR(kernel='rbf', C=5.0, epsilon=0.05)\n",
        "\n",
        "rf = RandomForestRegressor(n_estimators=100, random_state=42, n_jobs=-1)\n",
        "\n",
        "#elastic_net = ElasticNet(alpha=1.0, l1_ratio=0.5, random_state=42)  # alpha: ค่าการปรับ, l1_ratio: สัดส่วนของ L1 กับ L2"
      ]
    },
    {
      "cell_type": "code",
      "source": [
        "# ฝึกสอนโมเดลทั้งหมด\n",
        "xgb.fit(X_train, y_train_temp)\n",
        "rf.fit(X_train, y_train_temp)\n",
        "svm.fit(X_train, y_train_temp)\n"
      ],
      "metadata": {
        "colab": {
          "base_uri": "https://localhost:8080/",
          "height": 80
        },
        "id": "elKdvQlEYhaL",
        "outputId": "7ce1c2e1-3ae5-446a-b185-a4c82cad224a"
      },
      "execution_count": null,
      "outputs": [
        {
          "output_type": "execute_result",
          "data": {
            "text/plain": [
              "SVR(C=5.0, epsilon=0.05)"
            ],
            "text/html": [
              "<style>#sk-container-id-4 {\n",
              "  /* Definition of color scheme common for light and dark mode */\n",
              "  --sklearn-color-text: #000;\n",
              "  --sklearn-color-text-muted: #666;\n",
              "  --sklearn-color-line: gray;\n",
              "  /* Definition of color scheme for unfitted estimators */\n",
              "  --sklearn-color-unfitted-level-0: #fff5e6;\n",
              "  --sklearn-color-unfitted-level-1: #f6e4d2;\n",
              "  --sklearn-color-unfitted-level-2: #ffe0b3;\n",
              "  --sklearn-color-unfitted-level-3: chocolate;\n",
              "  /* Definition of color scheme for fitted estimators */\n",
              "  --sklearn-color-fitted-level-0: #f0f8ff;\n",
              "  --sklearn-color-fitted-level-1: #d4ebff;\n",
              "  --sklearn-color-fitted-level-2: #b3dbfd;\n",
              "  --sklearn-color-fitted-level-3: cornflowerblue;\n",
              "\n",
              "  /* Specific color for light theme */\n",
              "  --sklearn-color-text-on-default-background: var(--sg-text-color, var(--theme-code-foreground, var(--jp-content-font-color1, black)));\n",
              "  --sklearn-color-background: var(--sg-background-color, var(--theme-background, var(--jp-layout-color0, white)));\n",
              "  --sklearn-color-border-box: var(--sg-text-color, var(--theme-code-foreground, var(--jp-content-font-color1, black)));\n",
              "  --sklearn-color-icon: #696969;\n",
              "\n",
              "  @media (prefers-color-scheme: dark) {\n",
              "    /* Redefinition of color scheme for dark theme */\n",
              "    --sklearn-color-text-on-default-background: var(--sg-text-color, var(--theme-code-foreground, var(--jp-content-font-color1, white)));\n",
              "    --sklearn-color-background: var(--sg-background-color, var(--theme-background, var(--jp-layout-color0, #111)));\n",
              "    --sklearn-color-border-box: var(--sg-text-color, var(--theme-code-foreground, var(--jp-content-font-color1, white)));\n",
              "    --sklearn-color-icon: #878787;\n",
              "  }\n",
              "}\n",
              "\n",
              "#sk-container-id-4 {\n",
              "  color: var(--sklearn-color-text);\n",
              "}\n",
              "\n",
              "#sk-container-id-4 pre {\n",
              "  padding: 0;\n",
              "}\n",
              "\n",
              "#sk-container-id-4 input.sk-hidden--visually {\n",
              "  border: 0;\n",
              "  clip: rect(1px 1px 1px 1px);\n",
              "  clip: rect(1px, 1px, 1px, 1px);\n",
              "  height: 1px;\n",
              "  margin: -1px;\n",
              "  overflow: hidden;\n",
              "  padding: 0;\n",
              "  position: absolute;\n",
              "  width: 1px;\n",
              "}\n",
              "\n",
              "#sk-container-id-4 div.sk-dashed-wrapped {\n",
              "  border: 1px dashed var(--sklearn-color-line);\n",
              "  margin: 0 0.4em 0.5em 0.4em;\n",
              "  box-sizing: border-box;\n",
              "  padding-bottom: 0.4em;\n",
              "  background-color: var(--sklearn-color-background);\n",
              "}\n",
              "\n",
              "#sk-container-id-4 div.sk-container {\n",
              "  /* jupyter's `normalize.less` sets `[hidden] { display: none; }`\n",
              "     but bootstrap.min.css set `[hidden] { display: none !important; }`\n",
              "     so we also need the `!important` here to be able to override the\n",
              "     default hidden behavior on the sphinx rendered scikit-learn.org.\n",
              "     See: https://github.com/scikit-learn/scikit-learn/issues/21755 */\n",
              "  display: inline-block !important;\n",
              "  position: relative;\n",
              "}\n",
              "\n",
              "#sk-container-id-4 div.sk-text-repr-fallback {\n",
              "  display: none;\n",
              "}\n",
              "\n",
              "div.sk-parallel-item,\n",
              "div.sk-serial,\n",
              "div.sk-item {\n",
              "  /* draw centered vertical line to link estimators */\n",
              "  background-image: linear-gradient(var(--sklearn-color-text-on-default-background), var(--sklearn-color-text-on-default-background));\n",
              "  background-size: 2px 100%;\n",
              "  background-repeat: no-repeat;\n",
              "  background-position: center center;\n",
              "}\n",
              "\n",
              "/* Parallel-specific style estimator block */\n",
              "\n",
              "#sk-container-id-4 div.sk-parallel-item::after {\n",
              "  content: \"\";\n",
              "  width: 100%;\n",
              "  border-bottom: 2px solid var(--sklearn-color-text-on-default-background);\n",
              "  flex-grow: 1;\n",
              "}\n",
              "\n",
              "#sk-container-id-4 div.sk-parallel {\n",
              "  display: flex;\n",
              "  align-items: stretch;\n",
              "  justify-content: center;\n",
              "  background-color: var(--sklearn-color-background);\n",
              "  position: relative;\n",
              "}\n",
              "\n",
              "#sk-container-id-4 div.sk-parallel-item {\n",
              "  display: flex;\n",
              "  flex-direction: column;\n",
              "}\n",
              "\n",
              "#sk-container-id-4 div.sk-parallel-item:first-child::after {\n",
              "  align-self: flex-end;\n",
              "  width: 50%;\n",
              "}\n",
              "\n",
              "#sk-container-id-4 div.sk-parallel-item:last-child::after {\n",
              "  align-self: flex-start;\n",
              "  width: 50%;\n",
              "}\n",
              "\n",
              "#sk-container-id-4 div.sk-parallel-item:only-child::after {\n",
              "  width: 0;\n",
              "}\n",
              "\n",
              "/* Serial-specific style estimator block */\n",
              "\n",
              "#sk-container-id-4 div.sk-serial {\n",
              "  display: flex;\n",
              "  flex-direction: column;\n",
              "  align-items: center;\n",
              "  background-color: var(--sklearn-color-background);\n",
              "  padding-right: 1em;\n",
              "  padding-left: 1em;\n",
              "}\n",
              "\n",
              "\n",
              "/* Toggleable style: style used for estimator/Pipeline/ColumnTransformer box that is\n",
              "clickable and can be expanded/collapsed.\n",
              "- Pipeline and ColumnTransformer use this feature and define the default style\n",
              "- Estimators will overwrite some part of the style using the `sk-estimator` class\n",
              "*/\n",
              "\n",
              "/* Pipeline and ColumnTransformer style (default) */\n",
              "\n",
              "#sk-container-id-4 div.sk-toggleable {\n",
              "  /* Default theme specific background. It is overwritten whether we have a\n",
              "  specific estimator or a Pipeline/ColumnTransformer */\n",
              "  background-color: var(--sklearn-color-background);\n",
              "}\n",
              "\n",
              "/* Toggleable label */\n",
              "#sk-container-id-4 label.sk-toggleable__label {\n",
              "  cursor: pointer;\n",
              "  display: flex;\n",
              "  width: 100%;\n",
              "  margin-bottom: 0;\n",
              "  padding: 0.5em;\n",
              "  box-sizing: border-box;\n",
              "  text-align: center;\n",
              "  align-items: start;\n",
              "  justify-content: space-between;\n",
              "  gap: 0.5em;\n",
              "}\n",
              "\n",
              "#sk-container-id-4 label.sk-toggleable__label .caption {\n",
              "  font-size: 0.6rem;\n",
              "  font-weight: lighter;\n",
              "  color: var(--sklearn-color-text-muted);\n",
              "}\n",
              "\n",
              "#sk-container-id-4 label.sk-toggleable__label-arrow:before {\n",
              "  /* Arrow on the left of the label */\n",
              "  content: \"▸\";\n",
              "  float: left;\n",
              "  margin-right: 0.25em;\n",
              "  color: var(--sklearn-color-icon);\n",
              "}\n",
              "\n",
              "#sk-container-id-4 label.sk-toggleable__label-arrow:hover:before {\n",
              "  color: var(--sklearn-color-text);\n",
              "}\n",
              "\n",
              "/* Toggleable content - dropdown */\n",
              "\n",
              "#sk-container-id-4 div.sk-toggleable__content {\n",
              "  max-height: 0;\n",
              "  max-width: 0;\n",
              "  overflow: hidden;\n",
              "  text-align: left;\n",
              "  /* unfitted */\n",
              "  background-color: var(--sklearn-color-unfitted-level-0);\n",
              "}\n",
              "\n",
              "#sk-container-id-4 div.sk-toggleable__content.fitted {\n",
              "  /* fitted */\n",
              "  background-color: var(--sklearn-color-fitted-level-0);\n",
              "}\n",
              "\n",
              "#sk-container-id-4 div.sk-toggleable__content pre {\n",
              "  margin: 0.2em;\n",
              "  border-radius: 0.25em;\n",
              "  color: var(--sklearn-color-text);\n",
              "  /* unfitted */\n",
              "  background-color: var(--sklearn-color-unfitted-level-0);\n",
              "}\n",
              "\n",
              "#sk-container-id-4 div.sk-toggleable__content.fitted pre {\n",
              "  /* unfitted */\n",
              "  background-color: var(--sklearn-color-fitted-level-0);\n",
              "}\n",
              "\n",
              "#sk-container-id-4 input.sk-toggleable__control:checked~div.sk-toggleable__content {\n",
              "  /* Expand drop-down */\n",
              "  max-height: 200px;\n",
              "  max-width: 100%;\n",
              "  overflow: auto;\n",
              "}\n",
              "\n",
              "#sk-container-id-4 input.sk-toggleable__control:checked~label.sk-toggleable__label-arrow:before {\n",
              "  content: \"▾\";\n",
              "}\n",
              "\n",
              "/* Pipeline/ColumnTransformer-specific style */\n",
              "\n",
              "#sk-container-id-4 div.sk-label input.sk-toggleable__control:checked~label.sk-toggleable__label {\n",
              "  color: var(--sklearn-color-text);\n",
              "  background-color: var(--sklearn-color-unfitted-level-2);\n",
              "}\n",
              "\n",
              "#sk-container-id-4 div.sk-label.fitted input.sk-toggleable__control:checked~label.sk-toggleable__label {\n",
              "  background-color: var(--sklearn-color-fitted-level-2);\n",
              "}\n",
              "\n",
              "/* Estimator-specific style */\n",
              "\n",
              "/* Colorize estimator box */\n",
              "#sk-container-id-4 div.sk-estimator input.sk-toggleable__control:checked~label.sk-toggleable__label {\n",
              "  /* unfitted */\n",
              "  background-color: var(--sklearn-color-unfitted-level-2);\n",
              "}\n",
              "\n",
              "#sk-container-id-4 div.sk-estimator.fitted input.sk-toggleable__control:checked~label.sk-toggleable__label {\n",
              "  /* fitted */\n",
              "  background-color: var(--sklearn-color-fitted-level-2);\n",
              "}\n",
              "\n",
              "#sk-container-id-4 div.sk-label label.sk-toggleable__label,\n",
              "#sk-container-id-4 div.sk-label label {\n",
              "  /* The background is the default theme color */\n",
              "  color: var(--sklearn-color-text-on-default-background);\n",
              "}\n",
              "\n",
              "/* On hover, darken the color of the background */\n",
              "#sk-container-id-4 div.sk-label:hover label.sk-toggleable__label {\n",
              "  color: var(--sklearn-color-text);\n",
              "  background-color: var(--sklearn-color-unfitted-level-2);\n",
              "}\n",
              "\n",
              "/* Label box, darken color on hover, fitted */\n",
              "#sk-container-id-4 div.sk-label.fitted:hover label.sk-toggleable__label.fitted {\n",
              "  color: var(--sklearn-color-text);\n",
              "  background-color: var(--sklearn-color-fitted-level-2);\n",
              "}\n",
              "\n",
              "/* Estimator label */\n",
              "\n",
              "#sk-container-id-4 div.sk-label label {\n",
              "  font-family: monospace;\n",
              "  font-weight: bold;\n",
              "  display: inline-block;\n",
              "  line-height: 1.2em;\n",
              "}\n",
              "\n",
              "#sk-container-id-4 div.sk-label-container {\n",
              "  text-align: center;\n",
              "}\n",
              "\n",
              "/* Estimator-specific */\n",
              "#sk-container-id-4 div.sk-estimator {\n",
              "  font-family: monospace;\n",
              "  border: 1px dotted var(--sklearn-color-border-box);\n",
              "  border-radius: 0.25em;\n",
              "  box-sizing: border-box;\n",
              "  margin-bottom: 0.5em;\n",
              "  /* unfitted */\n",
              "  background-color: var(--sklearn-color-unfitted-level-0);\n",
              "}\n",
              "\n",
              "#sk-container-id-4 div.sk-estimator.fitted {\n",
              "  /* fitted */\n",
              "  background-color: var(--sklearn-color-fitted-level-0);\n",
              "}\n",
              "\n",
              "/* on hover */\n",
              "#sk-container-id-4 div.sk-estimator:hover {\n",
              "  /* unfitted */\n",
              "  background-color: var(--sklearn-color-unfitted-level-2);\n",
              "}\n",
              "\n",
              "#sk-container-id-4 div.sk-estimator.fitted:hover {\n",
              "  /* fitted */\n",
              "  background-color: var(--sklearn-color-fitted-level-2);\n",
              "}\n",
              "\n",
              "/* Specification for estimator info (e.g. \"i\" and \"?\") */\n",
              "\n",
              "/* Common style for \"i\" and \"?\" */\n",
              "\n",
              ".sk-estimator-doc-link,\n",
              "a:link.sk-estimator-doc-link,\n",
              "a:visited.sk-estimator-doc-link {\n",
              "  float: right;\n",
              "  font-size: smaller;\n",
              "  line-height: 1em;\n",
              "  font-family: monospace;\n",
              "  background-color: var(--sklearn-color-background);\n",
              "  border-radius: 1em;\n",
              "  height: 1em;\n",
              "  width: 1em;\n",
              "  text-decoration: none !important;\n",
              "  margin-left: 0.5em;\n",
              "  text-align: center;\n",
              "  /* unfitted */\n",
              "  border: var(--sklearn-color-unfitted-level-1) 1pt solid;\n",
              "  color: var(--sklearn-color-unfitted-level-1);\n",
              "}\n",
              "\n",
              ".sk-estimator-doc-link.fitted,\n",
              "a:link.sk-estimator-doc-link.fitted,\n",
              "a:visited.sk-estimator-doc-link.fitted {\n",
              "  /* fitted */\n",
              "  border: var(--sklearn-color-fitted-level-1) 1pt solid;\n",
              "  color: var(--sklearn-color-fitted-level-1);\n",
              "}\n",
              "\n",
              "/* On hover */\n",
              "div.sk-estimator:hover .sk-estimator-doc-link:hover,\n",
              ".sk-estimator-doc-link:hover,\n",
              "div.sk-label-container:hover .sk-estimator-doc-link:hover,\n",
              ".sk-estimator-doc-link:hover {\n",
              "  /* unfitted */\n",
              "  background-color: var(--sklearn-color-unfitted-level-3);\n",
              "  color: var(--sklearn-color-background);\n",
              "  text-decoration: none;\n",
              "}\n",
              "\n",
              "div.sk-estimator.fitted:hover .sk-estimator-doc-link.fitted:hover,\n",
              ".sk-estimator-doc-link.fitted:hover,\n",
              "div.sk-label-container:hover .sk-estimator-doc-link.fitted:hover,\n",
              ".sk-estimator-doc-link.fitted:hover {\n",
              "  /* fitted */\n",
              "  background-color: var(--sklearn-color-fitted-level-3);\n",
              "  color: var(--sklearn-color-background);\n",
              "  text-decoration: none;\n",
              "}\n",
              "\n",
              "/* Span, style for the box shown on hovering the info icon */\n",
              ".sk-estimator-doc-link span {\n",
              "  display: none;\n",
              "  z-index: 9999;\n",
              "  position: relative;\n",
              "  font-weight: normal;\n",
              "  right: .2ex;\n",
              "  padding: .5ex;\n",
              "  margin: .5ex;\n",
              "  width: min-content;\n",
              "  min-width: 20ex;\n",
              "  max-width: 50ex;\n",
              "  color: var(--sklearn-color-text);\n",
              "  box-shadow: 2pt 2pt 4pt #999;\n",
              "  /* unfitted */\n",
              "  background: var(--sklearn-color-unfitted-level-0);\n",
              "  border: .5pt solid var(--sklearn-color-unfitted-level-3);\n",
              "}\n",
              "\n",
              ".sk-estimator-doc-link.fitted span {\n",
              "  /* fitted */\n",
              "  background: var(--sklearn-color-fitted-level-0);\n",
              "  border: var(--sklearn-color-fitted-level-3);\n",
              "}\n",
              "\n",
              ".sk-estimator-doc-link:hover span {\n",
              "  display: block;\n",
              "}\n",
              "\n",
              "/* \"?\"-specific style due to the `<a>` HTML tag */\n",
              "\n",
              "#sk-container-id-4 a.estimator_doc_link {\n",
              "  float: right;\n",
              "  font-size: 1rem;\n",
              "  line-height: 1em;\n",
              "  font-family: monospace;\n",
              "  background-color: var(--sklearn-color-background);\n",
              "  border-radius: 1rem;\n",
              "  height: 1rem;\n",
              "  width: 1rem;\n",
              "  text-decoration: none;\n",
              "  /* unfitted */\n",
              "  color: var(--sklearn-color-unfitted-level-1);\n",
              "  border: var(--sklearn-color-unfitted-level-1) 1pt solid;\n",
              "}\n",
              "\n",
              "#sk-container-id-4 a.estimator_doc_link.fitted {\n",
              "  /* fitted */\n",
              "  border: var(--sklearn-color-fitted-level-1) 1pt solid;\n",
              "  color: var(--sklearn-color-fitted-level-1);\n",
              "}\n",
              "\n",
              "/* On hover */\n",
              "#sk-container-id-4 a.estimator_doc_link:hover {\n",
              "  /* unfitted */\n",
              "  background-color: var(--sklearn-color-unfitted-level-3);\n",
              "  color: var(--sklearn-color-background);\n",
              "  text-decoration: none;\n",
              "}\n",
              "\n",
              "#sk-container-id-4 a.estimator_doc_link.fitted:hover {\n",
              "  /* fitted */\n",
              "  background-color: var(--sklearn-color-fitted-level-3);\n",
              "}\n",
              "</style><div id=\"sk-container-id-4\" class=\"sk-top-container\"><div class=\"sk-text-repr-fallback\"><pre>SVR(C=5.0, epsilon=0.05)</pre><b>In a Jupyter environment, please rerun this cell to show the HTML representation or trust the notebook. <br />On GitHub, the HTML representation is unable to render, please try loading this page with nbviewer.org.</b></div><div class=\"sk-container\" hidden><div class=\"sk-item\"><div class=\"sk-estimator fitted sk-toggleable\"><input class=\"sk-toggleable__control sk-hidden--visually\" id=\"sk-estimator-id-4\" type=\"checkbox\" checked><label for=\"sk-estimator-id-4\" class=\"sk-toggleable__label fitted sk-toggleable__label-arrow\"><div><div>SVR</div></div><div><a class=\"sk-estimator-doc-link fitted\" rel=\"noreferrer\" target=\"_blank\" href=\"https://scikit-learn.org/1.6/modules/generated/sklearn.svm.SVR.html\">?<span>Documentation for SVR</span></a><span class=\"sk-estimator-doc-link fitted\">i<span>Fitted</span></span></div></label><div class=\"sk-toggleable__content fitted\"><pre>SVR(C=5.0, epsilon=0.05)</pre></div> </div></div></div></div>"
            ]
          },
          "metadata": {},
          "execution_count": 29
        }
      ]
    },
    {
      "cell_type": "code",
      "execution_count": null,
      "metadata": {
        "id": "W9T38ThyMDd5"
      },
      "outputs": [],
      "source": [
        "def evaluate_model(model, X_test, y_test):\n",
        "    y_pred = model.predict(X_test)\n",
        "    mae = mean_absolute_error(y_test, y_pred)\n",
        "    mse = mean_squared_error(y_test, y_pred)\n",
        "    r2 = r2_score(y_test, y_pred)\n",
        "    mape = np.mean(np.abs((y_test - y_pred) / y_test)) * 100\n",
        "    accuracy = 100 - mape\n",
        "\n",
        "    print(f\"{model.__class__.__name__} Evaluation\")\n",
        "    print(f\"MAE: {mae}\")\n",
        "    print(f\"MSE: {mse}\")\n",
        "    print(f\"R^2 Score: {r2}\")\n",
        "    print(f\"MAPE: {mape}%\")\n",
        "    print(f\"Prediction Accuracy: {accuracy}%\")\n",
        "    print(\"=\" * 50)\n",
        "    return y_pred\n"
      ]
    },
    {
      "cell_type": "code",
      "execution_count": null,
      "metadata": {
        "colab": {
          "base_uri": "https://localhost:8080/"
        },
        "id": "5bqn7SXeMFJ-",
        "outputId": "2676e549-6db8-4325-dc3d-551fd412b967"
      },
      "outputs": [
        {
          "output_type": "stream",
          "name": "stdout",
          "text": [
            "XGBRegressor Evaluation\n",
            "MAE: 0.4217486854848762\n",
            "MSE: 4.955320528455929\n",
            "R^2 Score: 0.9673029525402662\n",
            "MAPE: 19.472205161410127%\n",
            "Prediction Accuracy: 80.52779483858987%\n",
            "==================================================\n",
            "RandomForestRegressor Evaluation\n",
            "MAE: 0.3924395133510718\n",
            "MSE: 5.659966460786213\n",
            "R^2 Score: 0.9626534366594256\n",
            "MAPE: 16.274248115014696%\n",
            "Prediction Accuracy: 83.7257518849853%\n",
            "==================================================\n",
            "SVR Evaluation\n",
            "MAE: 0.38247366525322757\n",
            "MSE: 5.1045005255745215\n",
            "R^2 Score: 0.966318607447387\n",
            "MAPE: 19.99052543018962%\n",
            "Prediction Accuracy: 80.00947456981038%\n",
            "==================================================\n"
          ]
        },
        {
          "output_type": "execute_result",
          "data": {
            "text/plain": [
              "array([13.19205804, 25.00710307, 21.99223082, ..., -1.76695277,\n",
              "       18.54828614, -3.25267725])"
            ]
          },
          "metadata": {},
          "execution_count": 31
        }
      ],
      "source": [
        "# Evaluate Models\n",
        "evaluate_model(xgb, X_test, y_test_temp)\n",
        "evaluate_model(rf, X_test, y_test_temp)\n",
        "evaluate_model(svm, X_test, y_test_temp)\n",
        "\n"
      ]
    },
    {
      "cell_type": "code",
      "execution_count": null,
      "metadata": {
        "colab": {
          "base_uri": "https://localhost:8080/"
        },
        "id": "ymyb9jB9AXLV",
        "outputId": "4bc60b4a-de3f-4d05-f054-b1e1fd48cfc5"
      },
      "outputs": [
        {
          "output_type": "stream",
          "name": "stdout",
          "text": [
            "         date  temperature (°C)  humidity (%)  wind_speed (km/h)  \\\n",
            "0  1925-01-01         28.488867     63.548650          29.789863   \n",
            "1  1925-01-02         28.992703     95.005496          25.575581   \n",
            "2  1925-01-03         21.070264     99.813784           1.543178   \n",
            "3  1925-01-04         32.380113     76.746228           4.649422   \n",
            "4  1925-01-05               NaN     61.691885          31.451403   \n",
            "\n",
            "   country_France  country_Japan  country_South Korea  country_Thailand  \\\n",
            "0               0              0                    0                 1   \n",
            "1               0              0                    0                 1   \n",
            "2               0              0                    0                 1   \n",
            "3               0              0                    0                 1   \n",
            "4               0              0                    0                 1   \n",
            "\n",
            "   country_UK  country_USA  city_Beijing  city_London  city_New York  \\\n",
            "0           0            0             0            0              0   \n",
            "1           0            0             0            0              0   \n",
            "2           0            0             0            0              0   \n",
            "3           0            0             0            0              0   \n",
            "4           0            0             0            0              0   \n",
            "\n",
            "   city_Paris  city_Seoul  city_Tokyo  \n",
            "0           0           0           0  \n",
            "1           0           0           0  \n",
            "2           0           0           0  \n",
            "3           0           0           0  \n",
            "4           0           0           0  \n",
            "(255500, 16)\n"
          ]
        }
      ],
      "source": [
        "# แสดงตัวอย่างข้อมูลที่แปลงแล้ว\n",
        "print(data.head())\n",
        "print(data.shape)\n"
      ]
    },
    {
      "cell_type": "code",
      "source": [
        "# บันทึกโมเดล\n",
        "\n",
        "joblib.dump(xgb, 'xgb_temp.pkl')\n",
        "joblib.dump(xgb, 'rf_temp.pkl')\n",
        "joblib.dump(scaler, 'scaler.pkl')\n",
        "joblib.dump(svm, 'svm_temp.pkl')\n"
      ],
      "metadata": {
        "colab": {
          "base_uri": "https://localhost:8080/"
        },
        "id": "rCFt7szQc_3N",
        "outputId": "28784f94-12ad-4979-c4a1-2b0e811df0f3"
      },
      "execution_count": null,
      "outputs": [
        {
          "output_type": "execute_result",
          "data": {
            "text/plain": [
              "['svm_temp.pkl']"
            ]
          },
          "metadata": {},
          "execution_count": 34
        }
      ]
    },
    {
      "cell_type": "code",
      "execution_count": null,
      "metadata": {
        "id": "SElZL_myCvsA"
      },
      "outputs": [],
      "source": [
        "# โหลดโมเดลที่เทรนไว้\n",
        "model_1 = joblib.load('xgb_temp.pkl')\n",
        "model_2 = joblib.load('rf_temp.pkl')\n",
        "model_3 = joblib.load('svm_temp.pkl')\n",
        "scaler = joblib.load('scaler.pkl')"
      ]
    },
    {
      "cell_type": "code",
      "execution_count": null,
      "metadata": {
        "id": "OKtvadxlMHdU",
        "colab": {
          "base_uri": "https://localhost:8080/"
        },
        "outputId": "7ad985c5-eef1-40ee-ebde-95ac49a78e77"
      },
      "outputs": [
        {
          "output_type": "stream",
          "name": "stdout",
          "text": [
            "VotingRegressor Evaluation\n",
            "MAE: 0.39929091299764785\n",
            "MSE: 4.956862931889015\n",
            "R^2 Score: 0.9672927751888791\n",
            "MAPE: 17.510562241145067%\n",
            "Prediction Accuracy: 82.48943775885493%\n",
            "==================================================\n"
          ]
        }
      ],
      "source": [
        "\n",
        "\n",
        "# โหลดโมเดลที่เคยเทรนไว้\n",
        "model_1 = joblib.load('xgb_temp.pkl')  # SVM\n",
        "model_2 = joblib.load('rf_temp.pkl')   # Random Forest\n",
        "model_3 = joblib.load('svm_temp.pkl')  # XGBoost\n",
        "\n",
        "# โหลด Scaler (ถ้ามีการใช้ Normalize หรือ Standardize)\n",
        "scaler = joblib.load('scaler.pkl')\n",
        "\n",
        "# สร้าง Voting Regressor โดยใช้โมเดลที่โหลดมา\n",
        "ensemble_model = VotingRegressor(estimators=[\n",
        "    ('svm', model_1),\n",
        "    ('random_forest', model_2),\n",
        "    ('xgb', model_3)\n",
        "])\n",
        "\n",
        "# ฝึกสอน Voting Regressor (ถ้าต้องการ Re-train)\n",
        "ensemble_model.fit(X_train, y_train_temp)\n",
        "\n",
        "# ประเมินผลโมเดล\n",
        "evaluate_model(ensemble_model, X_test, y_test_temp)\n",
        "\n",
        "#บันทึกโมเดลที่ Train แล้ว\n",
        "joblib.dump(ensemble_model, 'ensemble_model_temp.pkl')\n",
        "\n",
        "# โหลดโมเดลที่บันทึกไว้\n",
        "ensemble_model_loaded = joblib.load('ensemble_model_temp.pkl')\n",
        "\n",
        "# ทำนายผลจากโมเดลที่โหลด\n",
        "y_pred_ensemble = ensemble_model_loaded.predict(X_test)\n"
      ]
    },
    {
      "cell_type": "code",
      "execution_count": null,
      "metadata": {
        "colab": {
          "base_uri": "https://localhost:8080/"
        },
        "id": "kMT3G7PdJbvF",
        "outputId": "21bc76d2-b579-4c5b-cd51-f5781213558b"
      },
      "outputs": [
        {
          "name": "stdout",
          "output_type": "stream",
          "text": [
            "VotingRegressor Evaluation\n",
            "MAE: 0.1867406581142742\n",
            "MSE: 0.8237213278685923\n",
            "R^2 Score: 0.9565919165288196\n",
            "MAPE: 0.7040708528027145%\n",
            "Prediction Accuracy: 99.29592914719728%\n",
            "==================================================\n"
          ]
        },
        {
          "data": {
            "text/plain": [
              "array([34.12147558, 32.9040334 , 22.45897408, ..., 26.61676334,\n",
              "       29.51993897, 32.62038653])"
            ]
          },
          "execution_count": 26,
          "metadata": {},
          "output_type": "execute_result"
        }
      ],
      "source": [
        "# Define a custom evaluation function for ensemble model\n",
        "def evaluate_ensemble_model(model, X_test, y_test):\n",
        "    y_pred_ensemble = model.predict(X_test)\n",
        "\n",
        "    mae = mean_absolute_error(y_test, y_pred_ensemble)\n",
        "    mse = mean_squared_error(y_test, y_pred_ensemble)\n",
        "    r2 = r2_score(y_test, y_pred_ensemble)\n",
        "    mape = np.mean(np.abs((y_test - y_pred_ensemble) / y_test)) * 100\n",
        "    accuracy = 100 - mape\n",
        "\n",
        "    print(f\"{model.__class__.__name__} Evaluation\")\n",
        "    print(f\"MAE: {mae}\")\n",
        "    print(f\"MSE: {mse}\")\n",
        "    print(f\"R^2 Score: {r2}\")\n",
        "    print(f\"MAPE: {mape}%\")\n",
        "    print(f\"Prediction Accuracy: {accuracy}%\")\n",
        "    print(\"=\" * 50)\n",
        "    return y_pred_ensemble\n",
        "\n",
        "# Evaluate the ensemble model\n",
        "evaluate_ensemble_model(ensemble_model, X_test, y_test_temp)\n"
      ]
    }
  ],
  "metadata": {
    "colab": {
      "provenance": []
    },
    "kernelspec": {
      "display_name": "Python 3",
      "name": "python3"
    },
    "language_info": {
      "name": "python"
    }
  },
  "nbformat": 4,
  "nbformat_minor": 0
}