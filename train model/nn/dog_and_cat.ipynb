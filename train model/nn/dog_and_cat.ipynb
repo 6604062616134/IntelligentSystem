{
  "nbformat": 4,
  "nbformat_minor": 0,
  "metadata": {
    "colab": {
      "provenance": [],
      "gpuType": "T4"
    },
    "kernelspec": {
      "name": "python3",
      "display_name": "Python 3"
    },
    "language_info": {
      "name": "python"
    },
    "accelerator": "GPU"
  },
  "cells": [
    {
      "cell_type": "code",
      "execution_count": null,
      "metadata": {
        "id": "-4kSicby0HZB"
      },
      "outputs": [],
      "source": [
        "import os\n",
        "import librosa\n",
        "import numpy as np\n",
        "import tensorflow as tf\n",
        "from tensorflow.keras import layers, models\n",
        "from sklearn.model_selection import train_test_split\n",
        "import matplotlib.pyplot as plt\n"
      ]
    },
    {
      "cell_type": "code",
      "source": [
        "# ฟังก์ชันโหลดเสียงและแปลงเป็น Mel Spectrogram\n",
        "def extract_features(audio_file):\n",
        "    try:\n",
        "        y, sr = librosa.load(audio_file, sr=None)\n",
        "        if y is None or len(y) == 0:\n",
        "            raise ValueError(f\"ไฟล์ {audio_file} ไม่มีข้อมูลเสียง\")\n",
        "\n",
        "        mel_spec = librosa.feature.melspectrogram(y=y, sr=sr, n_mels=128, fmax=8000)\n",
        "        log_mel_spec = librosa.power_to_db(mel_spec, ref=np.max)\n",
        "        return log_mel_spec\n",
        "    except Exception as e:\n",
        "        print(f\"เกิดข้อผิดพลาดในการโหลดไฟล์ {audio_file}: {e}\")\n",
        "        return None"
      ],
      "metadata": {
        "id": "JBdJa9lZ0iRb"
      },
      "execution_count": null,
      "outputs": []
    },
    {
      "cell_type": "code",
      "source": [
        "from google.colab import drive\n",
        "drive.mount('/content/drive')\n"
      ],
      "metadata": {
        "colab": {
          "base_uri": "https://localhost:8080/"
        },
        "id": "Ppn1gcgy0jcK",
        "outputId": "5b5e45a2-9416-4b5a-d9fa-4dc9ef08ca41"
      },
      "execution_count": null,
      "outputs": [
        {
          "output_type": "stream",
          "name": "stdout",
          "text": [
            "Mounted at /content/drive\n"
          ]
        }
      ]
    },
    {
      "cell_type": "code",
      "source": [
        "dog_dir = \"/content/drive/MyDrive/dog_wav\"\n",
        "cat_dir = \"/content/drive/MyDrive/cat_wav\"\n",
        "\n",
        "# ตรวจสอบว่าไดเรกทอรีมีอยู่\n",
        "if os.path.exists(dog_dir):\n",
        "    print(f\"Dog directory exists: {dog_dir}\")\n",
        "else:\n",
        "    print(f\"Dog directory does not exist: {dog_dir}\")\n",
        "\n",
        "if os.path.exists(cat_dir):\n",
        "    print(f\"Cat directory exists: {cat_dir}\")\n",
        "else:\n",
        "    print(f\"Cat directory does not exist: {cat_dir}\")\n",
        "\n",
        "# ฟังก์ชันดึงคุณลักษณะจากไฟล์เสียง\n",
        "def extract_features(file_path):\n",
        "    try:\n",
        "        y, sr = librosa.load(file_path, sr=None)  # โหลดไฟล์เสียง\n",
        "        mel_spec = librosa.feature.melspectrogram(y=y, sr=sr)  # แปลงเป็น Mel Spectrogram\n",
        "        mel_spec_db = librosa.power_to_db(mel_spec, ref=np.max)  # ทำให้เป็น dB scale\n",
        "        return mel_spec_db\n",
        "    except Exception as e:\n",
        "        print(f\"Error loading {file_path}: {e}\")\n",
        "        return None\n",
        "\n",
        "# อ่านไฟล์ทั้งหมดจากไดเรกทอรี\n",
        "dog_files = [os.path.join(dog_dir, f) for f in os.listdir(dog_dir) if f.endswith('.wav')]\n",
        "cat_files = [os.path.join(cat_dir, f) for f in os.listdir(cat_dir) if f.endswith('.wav')]\n",
        "\n",
        "# รวมไฟล์เสียงและแท็ก\n",
        "features, labels = [], []\n",
        "\n",
        "# สำหรับไฟล์เสียงหมา\n",
        "for file in dog_files:\n",
        "    mel_spec = extract_features(file)\n",
        "    if mel_spec is not None:\n",
        "        features.append(mel_spec)\n",
        "        labels.append(0)  # 0 = dog\n",
        "\n",
        "# สำหรับไฟล์เสียงแมว\n",
        "for file in cat_files:\n",
        "    mel_spec = extract_features(file)\n",
        "    if mel_spec is not None:\n",
        "        features.append(mel_spec)\n",
        "        labels.append(1)  # 1 = cat\n",
        "\n",
        "if not features:\n",
        "    raise ValueError(\"ไม่สามารถโหลดไฟล์เสียงได้ ตรวจสอบไฟล์ต้นฉบับอีกครั้ง\")"
      ],
      "metadata": {
        "colab": {
          "base_uri": "https://localhost:8080/"
        },
        "id": "QNnfrN7O0kUg",
        "outputId": "5c698bf7-1fbf-4826-fb40-0be38592cd01"
      },
      "execution_count": null,
      "outputs": [
        {
          "metadata": {
            "tags": null
          },
          "name": "stdout",
          "output_type": "stream",
          "text": [
            "Dog directory exists: /content/drive/MyDrive/dog_wav\n",
            "Cat directory exists: /content/drive/MyDrive/cat_wav\n"
          ]
        }
      ]
    },
    {
      "cell_type": "code",
      "source": [
        "max_length = max([feature.shape[1] for feature in features])  # หาขนาดสูงสุด\n",
        "features_padded = [np.pad(feature, ((0, 0), (0, max_length - feature.shape[1])), mode='constant') for feature in features]\n",
        "\n",
        "X = np.array(features_padded)\n",
        "y = np.array(labels)\n",
        "\n",
        "# แบ่งข้อมูลเป็นชุดฝึกและชุดทดสอบ\n",
        "X_train, X_test, y_train, y_test = train_test_split(X, y, test_size=0.2, random_state=42)\n",
        "\n",
        "# เปลี่ยนรูปร่างของ X_train และ X_test ให้มีมิติใหม่\n",
        "X_train, X_test = X_train[..., np.newaxis], X_test[..., np.newaxis]\n"
      ],
      "metadata": {
        "id": "JwZJJXKZ0mFJ"
      },
      "execution_count": null,
      "outputs": []
    },
    {
      "cell_type": "code",
      "source": [
        "# สร้างโมเดล CNN\n",
        "model = models.Sequential([\n",
        "    layers.InputLayer(shape=(X_train.shape[1], X_train.shape[2], 1)),  # ใช้ 'shape' แทน 'input_shape'\n",
        "\n",
        "    layers.Conv2D(32, (3, 3), activation='relu'),\n",
        "    layers.MaxPooling2D((2, 2)),\n",
        "\n",
        "    layers.Conv2D(64, (3, 3), activation='relu'),\n",
        "    layers.MaxPooling2D((2, 2)),\n",
        "\n",
        "    layers.Conv2D(128, (3, 3), activation='relu'),\n",
        "    layers.MaxPooling2D((2, 2)),\n",
        "\n",
        "    layers.Flatten(),\n",
        "    layers.Dense(128, activation='relu'),\n",
        "    layers.Dense(64, activation='relu'),\n",
        "    layers.Dense(1, activation='sigmoid')  # ใช้ sigmoid เนื่องจากเป็นปัญหาการจำแนก 2 คลาส\n",
        "])\n",
        "\n",
        "# คอมไพล์โมเดล\n",
        "model.compile(optimizer='adam', loss='binary_crossentropy', metrics=['accuracy'])"
      ],
      "metadata": {
        "id": "J_RGDlV60tn2"
      },
      "execution_count": null,
      "outputs": []
    },
    {
      "cell_type": "code",
      "source": [
        "model.fit(X_train, y_train, epochs=100, batch_size=16, validation_data=(X_test, y_test))"
      ],
      "metadata": {
        "colab": {
          "base_uri": "https://localhost:8080/"
        },
        "id": "YhcGOI-B0yvL",
        "outputId": "7f1fc70e-7396-4d00-ff9b-eba04f4c84ee"
      },
      "execution_count": null,
      "outputs": [
        {
          "output_type": "stream",
          "name": "stdout",
          "text": [
            "Epoch 1/100\n",
            "\u001b[1m12/12\u001b[0m \u001b[32m━━━━━━━━━━━━━━━━━━━━\u001b[0m\u001b[37m\u001b[0m \u001b[1m16s\u001b[0m 484ms/step - accuracy: 0.5193 - loss: 8.3797 - val_accuracy: 0.6667 - val_loss: 0.6830\n",
            "Epoch 2/100\n",
            "\u001b[1m12/12\u001b[0m \u001b[32m━━━━━━━━━━━━━━━━━━━━\u001b[0m\u001b[37m\u001b[0m \u001b[1m9s\u001b[0m 44ms/step - accuracy: 0.7547 - loss: 0.4917 - val_accuracy: 0.7708 - val_loss: 0.4609\n",
            "Epoch 3/100\n",
            "\u001b[1m12/12\u001b[0m \u001b[32m━━━━━━━━━━━━━━━━━━━━\u001b[0m\u001b[37m\u001b[0m \u001b[1m0s\u001b[0m 38ms/step - accuracy: 0.8974 - loss: 0.2888 - val_accuracy: 0.7917 - val_loss: 0.5051\n",
            "Epoch 4/100\n",
            "\u001b[1m12/12\u001b[0m \u001b[32m━━━━━━━━━━━━━━━━━━━━\u001b[0m\u001b[37m\u001b[0m \u001b[1m1s\u001b[0m 39ms/step - accuracy: 0.9042 - loss: 0.1962 - val_accuracy: 0.7917 - val_loss: 0.7131\n",
            "Epoch 5/100\n",
            "\u001b[1m12/12\u001b[0m \u001b[32m━━━━━━━━━━━━━━━━━━━━\u001b[0m\u001b[37m\u001b[0m \u001b[1m0s\u001b[0m 37ms/step - accuracy: 0.9554 - loss: 0.1095 - val_accuracy: 0.7917 - val_loss: 0.8929\n",
            "Epoch 6/100\n",
            "\u001b[1m12/12\u001b[0m \u001b[32m━━━━━━━━━━━━━━━━━━━━\u001b[0m\u001b[37m\u001b[0m \u001b[1m1s\u001b[0m 39ms/step - accuracy: 0.9752 - loss: 0.0598 - val_accuracy: 0.8542 - val_loss: 0.7929\n",
            "Epoch 7/100\n",
            "\u001b[1m12/12\u001b[0m \u001b[32m━━━━━━━━━━━━━━━━━━━━\u001b[0m\u001b[37m\u001b[0m \u001b[1m1s\u001b[0m 37ms/step - accuracy: 0.9728 - loss: 0.0722 - val_accuracy: 0.8333 - val_loss: 0.9953\n",
            "Epoch 8/100\n",
            "\u001b[1m12/12\u001b[0m \u001b[32m━━━━━━━━━━━━━━━━━━━━\u001b[0m\u001b[37m\u001b[0m \u001b[1m1s\u001b[0m 38ms/step - accuracy: 0.9914 - loss: 0.0230 - val_accuracy: 0.8542 - val_loss: 0.9632\n",
            "Epoch 9/100\n",
            "\u001b[1m12/12\u001b[0m \u001b[32m━━━━━━━━━━━━━━━━━━━━\u001b[0m\u001b[37m\u001b[0m \u001b[1m0s\u001b[0m 37ms/step - accuracy: 0.9761 - loss: 0.0831 - val_accuracy: 0.8333 - val_loss: 1.1034\n",
            "Epoch 10/100\n",
            "\u001b[1m12/12\u001b[0m \u001b[32m━━━━━━━━━━━━━━━━━━━━\u001b[0m\u001b[37m\u001b[0m \u001b[1m1s\u001b[0m 37ms/step - accuracy: 0.9515 - loss: 0.1290 - val_accuracy: 0.7708 - val_loss: 0.8579\n",
            "Epoch 11/100\n",
            "\u001b[1m12/12\u001b[0m \u001b[32m━━━━━━━━━━━━━━━━━━━━\u001b[0m\u001b[37m\u001b[0m \u001b[1m0s\u001b[0m 37ms/step - accuracy: 0.9842 - loss: 0.0357 - val_accuracy: 0.8750 - val_loss: 0.6781\n",
            "Epoch 12/100\n",
            "\u001b[1m12/12\u001b[0m \u001b[32m━━━━━━━━━━━━━━━━━━━━\u001b[0m\u001b[37m\u001b[0m \u001b[1m1s\u001b[0m 37ms/step - accuracy: 0.9835 - loss: 0.1365 - val_accuracy: 0.7292 - val_loss: 2.0289\n",
            "Epoch 13/100\n",
            "\u001b[1m12/12\u001b[0m \u001b[32m━━━━━━━━━━━━━━━━━━━━\u001b[0m\u001b[37m\u001b[0m \u001b[1m1s\u001b[0m 38ms/step - accuracy: 0.8956 - loss: 0.2385 - val_accuracy: 0.6875 - val_loss: 1.4293\n",
            "Epoch 14/100\n",
            "\u001b[1m12/12\u001b[0m \u001b[32m━━━━━━━━━━━━━━━━━━━━\u001b[0m\u001b[37m\u001b[0m \u001b[1m1s\u001b[0m 42ms/step - accuracy: 0.9129 - loss: 0.2393 - val_accuracy: 0.7708 - val_loss: 0.9535\n",
            "Epoch 15/100\n",
            "\u001b[1m12/12\u001b[0m \u001b[32m━━━━━━━━━━━━━━━━━━━━\u001b[0m\u001b[37m\u001b[0m \u001b[1m1s\u001b[0m 41ms/step - accuracy: 0.9471 - loss: 0.1146 - val_accuracy: 0.7292 - val_loss: 1.3622\n",
            "Epoch 16/100\n",
            "\u001b[1m12/12\u001b[0m \u001b[32m━━━━━━━━━━━━━━━━━━━━\u001b[0m\u001b[37m\u001b[0m \u001b[1m1s\u001b[0m 42ms/step - accuracy: 0.9486 - loss: 0.1064 - val_accuracy: 0.6875 - val_loss: 1.5198\n",
            "Epoch 17/100\n",
            "\u001b[1m12/12\u001b[0m \u001b[32m━━━━━━━━━━━━━━━━━━━━\u001b[0m\u001b[37m\u001b[0m \u001b[1m1s\u001b[0m 40ms/step - accuracy: 0.9605 - loss: 0.1469 - val_accuracy: 0.7708 - val_loss: 1.3346\n",
            "Epoch 18/100\n",
            "\u001b[1m12/12\u001b[0m \u001b[32m━━━━━━━━━━━━━━━━━━━━\u001b[0m\u001b[37m\u001b[0m \u001b[1m1s\u001b[0m 41ms/step - accuracy: 0.9843 - loss: 0.0936 - val_accuracy: 0.7500 - val_loss: 1.4878\n",
            "Epoch 19/100\n",
            "\u001b[1m12/12\u001b[0m \u001b[32m━━━━━━━━━━━━━━━━━━━━\u001b[0m\u001b[37m\u001b[0m \u001b[1m1s\u001b[0m 39ms/step - accuracy: 0.9825 - loss: 0.0888 - val_accuracy: 0.7292 - val_loss: 1.0419\n",
            "Epoch 20/100\n",
            "\u001b[1m12/12\u001b[0m \u001b[32m━━━━━━━━━━━━━━━━━━━━\u001b[0m\u001b[37m\u001b[0m \u001b[1m1s\u001b[0m 39ms/step - accuracy: 0.9955 - loss: 0.0261 - val_accuracy: 0.8125 - val_loss: 1.1997\n",
            "Epoch 21/100\n",
            "\u001b[1m12/12\u001b[0m \u001b[32m━━━━━━━━━━━━━━━━━━━━\u001b[0m\u001b[37m\u001b[0m \u001b[1m0s\u001b[0m 39ms/step - accuracy: 0.9883 - loss: 0.0215 - val_accuracy: 0.7292 - val_loss: 1.6799\n",
            "Epoch 22/100\n",
            "\u001b[1m12/12\u001b[0m \u001b[32m━━━━━━━━━━━━━━━━━━━━\u001b[0m\u001b[37m\u001b[0m \u001b[1m1s\u001b[0m 37ms/step - accuracy: 0.9992 - loss: 0.0111 - val_accuracy: 0.7917 - val_loss: 1.6784\n",
            "Epoch 23/100\n",
            "\u001b[1m12/12\u001b[0m \u001b[32m━━━━━━━━━━━━━━━━━━━━\u001b[0m\u001b[37m\u001b[0m \u001b[1m0s\u001b[0m 39ms/step - accuracy: 1.0000 - loss: 9.9340e-04 - val_accuracy: 0.8958 - val_loss: 1.5543\n",
            "Epoch 24/100\n",
            "\u001b[1m12/12\u001b[0m \u001b[32m━━━━━━━━━━━━━━━━━━━━\u001b[0m\u001b[37m\u001b[0m \u001b[1m1s\u001b[0m 38ms/step - accuracy: 0.9949 - loss: 0.0297 - val_accuracy: 0.8333 - val_loss: 1.5202\n",
            "Epoch 25/100\n",
            "\u001b[1m12/12\u001b[0m \u001b[32m━━━━━━━━━━━━━━━━━━━━\u001b[0m\u001b[37m\u001b[0m \u001b[1m1s\u001b[0m 37ms/step - accuracy: 0.9897 - loss: 0.0335 - val_accuracy: 0.8125 - val_loss: 1.6739\n",
            "Epoch 26/100\n",
            "\u001b[1m12/12\u001b[0m \u001b[32m━━━━━━━━━━━━━━━━━━━━\u001b[0m\u001b[37m\u001b[0m \u001b[1m0s\u001b[0m 39ms/step - accuracy: 0.9910 - loss: 0.0910 - val_accuracy: 0.7708 - val_loss: 2.1776\n",
            "Epoch 27/100\n",
            "\u001b[1m12/12\u001b[0m \u001b[32m━━━━━━━━━━━━━━━━━━━━\u001b[0m\u001b[37m\u001b[0m \u001b[1m1s\u001b[0m 37ms/step - accuracy: 0.9837 - loss: 0.0493 - val_accuracy: 0.7917 - val_loss: 1.1406\n",
            "Epoch 28/100\n",
            "\u001b[1m12/12\u001b[0m \u001b[32m━━━━━━━━━━━━━━━━━━━━\u001b[0m\u001b[37m\u001b[0m \u001b[1m1s\u001b[0m 37ms/step - accuracy: 1.0000 - loss: 0.0022 - val_accuracy: 0.9167 - val_loss: 0.9161\n",
            "Epoch 29/100\n",
            "\u001b[1m12/12\u001b[0m \u001b[32m━━━━━━━━━━━━━━━━━━━━\u001b[0m\u001b[37m\u001b[0m \u001b[1m1s\u001b[0m 39ms/step - accuracy: 1.0000 - loss: 0.0013 - val_accuracy: 0.9167 - val_loss: 0.9407\n",
            "Epoch 30/100\n",
            "\u001b[1m12/12\u001b[0m \u001b[32m━━━━━━━━━━━━━━━━━━━━\u001b[0m\u001b[37m\u001b[0m \u001b[1m1s\u001b[0m 37ms/step - accuracy: 1.0000 - loss: 4.4758e-04 - val_accuracy: 0.9167 - val_loss: 0.9514\n",
            "Epoch 31/100\n",
            "\u001b[1m12/12\u001b[0m \u001b[32m━━━━━━━━━━━━━━━━━━━━\u001b[0m\u001b[37m\u001b[0m \u001b[1m1s\u001b[0m 39ms/step - accuracy: 1.0000 - loss: 3.9904e-04 - val_accuracy: 0.9167 - val_loss: 0.9695\n",
            "Epoch 32/100\n",
            "\u001b[1m12/12\u001b[0m \u001b[32m━━━━━━━━━━━━━━━━━━━━\u001b[0m\u001b[37m\u001b[0m \u001b[1m0s\u001b[0m 37ms/step - accuracy: 1.0000 - loss: 1.7893e-04 - val_accuracy: 0.9167 - val_loss: 0.9728\n",
            "Epoch 33/100\n",
            "\u001b[1m12/12\u001b[0m \u001b[32m━━━━━━━━━━━━━━━━━━━━\u001b[0m\u001b[37m\u001b[0m \u001b[1m1s\u001b[0m 39ms/step - accuracy: 1.0000 - loss: 1.8145e-04 - val_accuracy: 0.9167 - val_loss: 0.9873\n",
            "Epoch 34/100\n",
            "\u001b[1m12/12\u001b[0m \u001b[32m━━━━━━━━━━━━━━━━━━━━\u001b[0m\u001b[37m\u001b[0m \u001b[1m0s\u001b[0m 37ms/step - accuracy: 1.0000 - loss: 3.9998e-05 - val_accuracy: 0.9167 - val_loss: 1.0025\n",
            "Epoch 35/100\n",
            "\u001b[1m12/12\u001b[0m \u001b[32m━━━━━━━━━━━━━━━━━━━━\u001b[0m\u001b[37m\u001b[0m \u001b[1m1s\u001b[0m 37ms/step - accuracy: 1.0000 - loss: 4.2554e-05 - val_accuracy: 0.9167 - val_loss: 1.0218\n",
            "Epoch 36/100\n",
            "\u001b[1m12/12\u001b[0m \u001b[32m━━━━━━━━━━━━━━━━━━━━\u001b[0m\u001b[37m\u001b[0m \u001b[1m1s\u001b[0m 41ms/step - accuracy: 1.0000 - loss: 5.0005e-05 - val_accuracy: 0.9167 - val_loss: 1.0385\n",
            "Epoch 37/100\n",
            "\u001b[1m12/12\u001b[0m \u001b[32m━━━━━━━━━━━━━━━━━━━━\u001b[0m\u001b[37m\u001b[0m \u001b[1m1s\u001b[0m 40ms/step - accuracy: 1.0000 - loss: 1.5368e-05 - val_accuracy: 0.9167 - val_loss: 1.0501\n",
            "Epoch 38/100\n",
            "\u001b[1m12/12\u001b[0m \u001b[32m━━━━━━━━━━━━━━━━━━━━\u001b[0m\u001b[37m\u001b[0m \u001b[1m1s\u001b[0m 49ms/step - accuracy: 1.0000 - loss: 1.7019e-05 - val_accuracy: 0.9167 - val_loss: 1.0624\n",
            "Epoch 39/100\n",
            "\u001b[1m12/12\u001b[0m \u001b[32m━━━━━━━━━━━━━━━━━━━━\u001b[0m\u001b[37m\u001b[0m \u001b[1m0s\u001b[0m 40ms/step - accuracy: 1.0000 - loss: 1.2289e-05 - val_accuracy: 0.9167 - val_loss: 1.0728\n",
            "Epoch 40/100\n",
            "\u001b[1m12/12\u001b[0m \u001b[32m━━━━━━━━━━━━━━━━━━━━\u001b[0m\u001b[37m\u001b[0m \u001b[1m1s\u001b[0m 41ms/step - accuracy: 1.0000 - loss: 2.0684e-05 - val_accuracy: 0.9167 - val_loss: 1.0840\n",
            "Epoch 41/100\n",
            "\u001b[1m12/12\u001b[0m \u001b[32m━━━━━━━━━━━━━━━━━━━━\u001b[0m\u001b[37m\u001b[0m \u001b[1m1s\u001b[0m 39ms/step - accuracy: 1.0000 - loss: 1.6353e-05 - val_accuracy: 0.9167 - val_loss: 1.0931\n",
            "Epoch 42/100\n",
            "\u001b[1m12/12\u001b[0m \u001b[32m━━━━━━━━━━━━━━━━━━━━\u001b[0m\u001b[37m\u001b[0m \u001b[1m0s\u001b[0m 37ms/step - accuracy: 1.0000 - loss: 1.7265e-05 - val_accuracy: 0.9167 - val_loss: 1.1040\n",
            "Epoch 43/100\n",
            "\u001b[1m12/12\u001b[0m \u001b[32m━━━━━━━━━━━━━━━━━━━━\u001b[0m\u001b[37m\u001b[0m \u001b[1m1s\u001b[0m 38ms/step - accuracy: 1.0000 - loss: 1.1480e-05 - val_accuracy: 0.9167 - val_loss: 1.1126\n",
            "Epoch 44/100\n",
            "\u001b[1m12/12\u001b[0m \u001b[32m━━━━━━━━━━━━━━━━━━━━\u001b[0m\u001b[37m\u001b[0m \u001b[1m1s\u001b[0m 39ms/step - accuracy: 1.0000 - loss: 1.1709e-05 - val_accuracy: 0.9167 - val_loss: 1.1221\n",
            "Epoch 45/100\n",
            "\u001b[1m12/12\u001b[0m \u001b[32m━━━━━━━━━━━━━━━━━━━━\u001b[0m\u001b[37m\u001b[0m \u001b[1m1s\u001b[0m 37ms/step - accuracy: 1.0000 - loss: 1.0950e-05 - val_accuracy: 0.8958 - val_loss: 1.1321\n",
            "Epoch 46/100\n",
            "\u001b[1m12/12\u001b[0m \u001b[32m━━━━━━━━━━━━━━━━━━━━\u001b[0m\u001b[37m\u001b[0m \u001b[1m1s\u001b[0m 39ms/step - accuracy: 1.0000 - loss: 5.6369e-06 - val_accuracy: 0.8958 - val_loss: 1.1403\n",
            "Epoch 47/100\n",
            "\u001b[1m12/12\u001b[0m \u001b[32m━━━━━━━━━━━━━━━━━━━━\u001b[0m\u001b[37m\u001b[0m \u001b[1m0s\u001b[0m 37ms/step - accuracy: 1.0000 - loss: 7.8391e-06 - val_accuracy: 0.8958 - val_loss: 1.1491\n",
            "Epoch 48/100\n",
            "\u001b[1m12/12\u001b[0m \u001b[32m━━━━━━━━━━━━━━━━━━━━\u001b[0m\u001b[37m\u001b[0m \u001b[1m0s\u001b[0m 37ms/step - accuracy: 1.0000 - loss: 5.2680e-06 - val_accuracy: 0.8958 - val_loss: 1.1584\n",
            "Epoch 49/100\n",
            "\u001b[1m12/12\u001b[0m \u001b[32m━━━━━━━━━━━━━━━━━━━━\u001b[0m\u001b[37m\u001b[0m \u001b[1m1s\u001b[0m 39ms/step - accuracy: 1.0000 - loss: 6.8882e-06 - val_accuracy: 0.8958 - val_loss: 1.1689\n",
            "Epoch 50/100\n",
            "\u001b[1m12/12\u001b[0m \u001b[32m━━━━━━━━━━━━━━━━━━━━\u001b[0m\u001b[37m\u001b[0m \u001b[1m0s\u001b[0m 37ms/step - accuracy: 1.0000 - loss: 1.9576e-06 - val_accuracy: 0.8958 - val_loss: 1.1774\n",
            "Epoch 51/100\n",
            "\u001b[1m12/12\u001b[0m \u001b[32m━━━━━━━━━━━━━━━━━━━━\u001b[0m\u001b[37m\u001b[0m \u001b[1m0s\u001b[0m 39ms/step - accuracy: 1.0000 - loss: 1.9111e-06 - val_accuracy: 0.8958 - val_loss: 1.1871\n",
            "Epoch 52/100\n",
            "\u001b[1m12/12\u001b[0m \u001b[32m━━━━━━━━━━━━━━━━━━━━\u001b[0m\u001b[37m\u001b[0m \u001b[1m0s\u001b[0m 37ms/step - accuracy: 1.0000 - loss: 5.3106e-06 - val_accuracy: 0.8958 - val_loss: 1.1965\n",
            "Epoch 53/100\n",
            "\u001b[1m12/12\u001b[0m \u001b[32m━━━━━━━━━━━━━━━━━━━━\u001b[0m\u001b[37m\u001b[0m \u001b[1m0s\u001b[0m 40ms/step - accuracy: 1.0000 - loss: 3.3173e-06 - val_accuracy: 0.8958 - val_loss: 1.2088\n",
            "Epoch 54/100\n",
            "\u001b[1m12/12\u001b[0m \u001b[32m━━━━━━━━━━━━━━━━━━━━\u001b[0m\u001b[37m\u001b[0m \u001b[1m1s\u001b[0m 38ms/step - accuracy: 1.0000 - loss: 3.4229e-06 - val_accuracy: 0.8958 - val_loss: 1.2177\n",
            "Epoch 55/100\n",
            "\u001b[1m12/12\u001b[0m \u001b[32m━━━━━━━━━━━━━━━━━━━━\u001b[0m\u001b[37m\u001b[0m \u001b[1m0s\u001b[0m 38ms/step - accuracy: 1.0000 - loss: 4.7719e-06 - val_accuracy: 0.8958 - val_loss: 1.2279\n",
            "Epoch 56/100\n",
            "\u001b[1m12/12\u001b[0m \u001b[32m━━━━━━━━━━━━━━━━━━━━\u001b[0m\u001b[37m\u001b[0m \u001b[1m1s\u001b[0m 38ms/step - accuracy: 1.0000 - loss: 2.4877e-06 - val_accuracy: 0.8958 - val_loss: 1.2355\n",
            "Epoch 57/100\n",
            "\u001b[1m12/12\u001b[0m \u001b[32m━━━━━━━━━━━━━━━━━━━━\u001b[0m\u001b[37m\u001b[0m \u001b[1m1s\u001b[0m 38ms/step - accuracy: 1.0000 - loss: 2.6569e-06 - val_accuracy: 0.8958 - val_loss: 1.2429\n",
            "Epoch 58/100\n",
            "\u001b[1m12/12\u001b[0m \u001b[32m━━━━━━━━━━━━━━━━━━━━\u001b[0m\u001b[37m\u001b[0m \u001b[1m1s\u001b[0m 37ms/step - accuracy: 1.0000 - loss: 2.1603e-06 - val_accuracy: 0.8958 - val_loss: 1.2516\n",
            "Epoch 59/100\n",
            "\u001b[1m12/12\u001b[0m \u001b[32m━━━━━━━━━━━━━━━━━━━━\u001b[0m\u001b[37m\u001b[0m \u001b[1m1s\u001b[0m 41ms/step - accuracy: 1.0000 - loss: 3.5726e-06 - val_accuracy: 0.8958 - val_loss: 1.2595\n",
            "Epoch 60/100\n",
            "\u001b[1m12/12\u001b[0m \u001b[32m━━━━━━━━━━━━━━━━━━━━\u001b[0m\u001b[37m\u001b[0m \u001b[1m1s\u001b[0m 42ms/step - accuracy: 1.0000 - loss: 2.0889e-06 - val_accuracy: 0.8958 - val_loss: 1.2661\n",
            "Epoch 61/100\n",
            "\u001b[1m12/12\u001b[0m \u001b[32m━━━━━━━━━━━━━━━━━━━━\u001b[0m\u001b[37m\u001b[0m \u001b[1m1s\u001b[0m 41ms/step - accuracy: 1.0000 - loss: 2.7755e-06 - val_accuracy: 0.8958 - val_loss: 1.2743\n",
            "Epoch 62/100\n",
            "\u001b[1m12/12\u001b[0m \u001b[32m━━━━━━━━━━━━━━━━━━━━\u001b[0m\u001b[37m\u001b[0m \u001b[1m1s\u001b[0m 41ms/step - accuracy: 1.0000 - loss: 1.3436e-06 - val_accuracy: 0.8958 - val_loss: 1.2802\n",
            "Epoch 63/100\n",
            "\u001b[1m12/12\u001b[0m \u001b[32m━━━━━━━━━━━━━━━━━━━━\u001b[0m\u001b[37m\u001b[0m \u001b[1m1s\u001b[0m 42ms/step - accuracy: 1.0000 - loss: 2.4388e-06 - val_accuracy: 0.8958 - val_loss: 1.2862\n",
            "Epoch 64/100\n",
            "\u001b[1m12/12\u001b[0m \u001b[32m━━━━━━━━━━━━━━━━━━━━\u001b[0m\u001b[37m\u001b[0m \u001b[1m1s\u001b[0m 38ms/step - accuracy: 1.0000 - loss: 1.8281e-06 - val_accuracy: 0.8958 - val_loss: 1.2926\n",
            "Epoch 65/100\n",
            "\u001b[1m12/12\u001b[0m \u001b[32m━━━━━━━━━━━━━━━━━━━━\u001b[0m\u001b[37m\u001b[0m \u001b[1m1s\u001b[0m 38ms/step - accuracy: 1.0000 - loss: 1.2617e-06 - val_accuracy: 0.8958 - val_loss: 1.2982\n",
            "Epoch 66/100\n",
            "\u001b[1m12/12\u001b[0m \u001b[32m━━━━━━━━━━━━━━━━━━━━\u001b[0m\u001b[37m\u001b[0m \u001b[1m0s\u001b[0m 38ms/step - accuracy: 1.0000 - loss: 1.9666e-06 - val_accuracy: 0.8958 - val_loss: 1.3050\n",
            "Epoch 67/100\n",
            "\u001b[1m12/12\u001b[0m \u001b[32m━━━━━━━━━━━━━━━━━━━━\u001b[0m\u001b[37m\u001b[0m \u001b[1m1s\u001b[0m 38ms/step - accuracy: 1.0000 - loss: 1.5970e-06 - val_accuracy: 0.8958 - val_loss: 1.3117\n",
            "Epoch 68/100\n",
            "\u001b[1m12/12\u001b[0m \u001b[32m━━━━━━━━━━━━━━━━━━━━\u001b[0m\u001b[37m\u001b[0m \u001b[1m0s\u001b[0m 39ms/step - accuracy: 1.0000 - loss: 1.7752e-06 - val_accuracy: 0.8958 - val_loss: 1.3147\n",
            "Epoch 69/100\n",
            "\u001b[1m12/12\u001b[0m \u001b[32m━━━━━━━━━━━━━━━━━━━━\u001b[0m\u001b[37m\u001b[0m \u001b[1m1s\u001b[0m 39ms/step - accuracy: 1.0000 - loss: 1.2944e-06 - val_accuracy: 0.8958 - val_loss: 1.3210\n",
            "Epoch 70/100\n",
            "\u001b[1m12/12\u001b[0m \u001b[32m━━━━━━━━━━━━━━━━━━━━\u001b[0m\u001b[37m\u001b[0m \u001b[1m0s\u001b[0m 37ms/step - accuracy: 1.0000 - loss: 1.7594e-06 - val_accuracy: 0.8958 - val_loss: 1.3256\n",
            "Epoch 71/100\n",
            "\u001b[1m12/12\u001b[0m \u001b[32m━━━━━━━━━━━━━━━━━━━━\u001b[0m\u001b[37m\u001b[0m \u001b[1m1s\u001b[0m 37ms/step - accuracy: 1.0000 - loss: 1.3789e-06 - val_accuracy: 0.8958 - val_loss: 1.3290\n",
            "Epoch 72/100\n",
            "\u001b[1m12/12\u001b[0m \u001b[32m━━━━━━━━━━━━━━━━━━━━\u001b[0m\u001b[37m\u001b[0m \u001b[1m0s\u001b[0m 37ms/step - accuracy: 1.0000 - loss: 1.9911e-06 - val_accuracy: 0.8958 - val_loss: 1.3335\n",
            "Epoch 73/100\n",
            "\u001b[1m12/12\u001b[0m \u001b[32m━━━━━━━━━━━━━━━━━━━━\u001b[0m\u001b[37m\u001b[0m \u001b[1m1s\u001b[0m 38ms/step - accuracy: 1.0000 - loss: 1.2138e-06 - val_accuracy: 0.8958 - val_loss: 1.3386\n",
            "Epoch 74/100\n",
            "\u001b[1m12/12\u001b[0m \u001b[32m━━━━━━━━━━━━━━━━━━━━\u001b[0m\u001b[37m\u001b[0m \u001b[1m1s\u001b[0m 39ms/step - accuracy: 1.0000 - loss: 1.7911e-06 - val_accuracy: 0.8958 - val_loss: 1.3424\n",
            "Epoch 75/100\n",
            "\u001b[1m12/12\u001b[0m \u001b[32m━━━━━━━━━━━━━━━━━━━━\u001b[0m\u001b[37m\u001b[0m \u001b[1m0s\u001b[0m 39ms/step - accuracy: 1.0000 - loss: 4.6282e-07 - val_accuracy: 0.8958 - val_loss: 1.3454\n",
            "Epoch 76/100\n",
            "\u001b[1m12/12\u001b[0m \u001b[32m━━━━━━━━━━━━━━━━━━━━\u001b[0m\u001b[37m\u001b[0m \u001b[1m1s\u001b[0m 40ms/step - accuracy: 1.0000 - loss: 9.3716e-07 - val_accuracy: 0.8958 - val_loss: 1.3501\n",
            "Epoch 77/100\n",
            "\u001b[1m12/12\u001b[0m \u001b[32m━━━━━━━━━━━━━━━━━━━━\u001b[0m\u001b[37m\u001b[0m \u001b[1m1s\u001b[0m 38ms/step - accuracy: 1.0000 - loss: 8.6489e-07 - val_accuracy: 0.8958 - val_loss: 1.3548\n",
            "Epoch 78/100\n",
            "\u001b[1m12/12\u001b[0m \u001b[32m━━━━━━━━━━━━━━━━━━━━\u001b[0m\u001b[37m\u001b[0m \u001b[1m0s\u001b[0m 40ms/step - accuracy: 1.0000 - loss: 7.4893e-07 - val_accuracy: 0.8958 - val_loss: 1.3583\n",
            "Epoch 79/100\n",
            "\u001b[1m12/12\u001b[0m \u001b[32m━━━━━━━━━━━━━━━━━━━━\u001b[0m\u001b[37m\u001b[0m \u001b[1m1s\u001b[0m 37ms/step - accuracy: 1.0000 - loss: 9.1780e-07 - val_accuracy: 0.8958 - val_loss: 1.3619\n",
            "Epoch 80/100\n",
            "\u001b[1m12/12\u001b[0m \u001b[32m━━━━━━━━━━━━━━━━━━━━\u001b[0m\u001b[37m\u001b[0m \u001b[1m0s\u001b[0m 40ms/step - accuracy: 1.0000 - loss: 6.1219e-07 - val_accuracy: 0.8958 - val_loss: 1.3654\n",
            "Epoch 81/100\n",
            "\u001b[1m12/12\u001b[0m \u001b[32m━━━━━━━━━━━━━━━━━━━━\u001b[0m\u001b[37m\u001b[0m \u001b[1m1s\u001b[0m 37ms/step - accuracy: 1.0000 - loss: 7.9511e-07 - val_accuracy: 0.8958 - val_loss: 1.3676\n",
            "Epoch 82/100\n",
            "\u001b[1m12/12\u001b[0m \u001b[32m━━━━━━━━━━━━━━━━━━━━\u001b[0m\u001b[37m\u001b[0m \u001b[1m1s\u001b[0m 42ms/step - accuracy: 1.0000 - loss: 4.0985e-07 - val_accuracy: 0.8958 - val_loss: 1.3701\n",
            "Epoch 83/100\n",
            "\u001b[1m12/12\u001b[0m \u001b[32m━━━━━━━━━━━━━━━━━━━━\u001b[0m\u001b[37m\u001b[0m \u001b[1m1s\u001b[0m 41ms/step - accuracy: 1.0000 - loss: 3.6220e-07 - val_accuracy: 0.8958 - val_loss: 1.3725\n",
            "Epoch 84/100\n",
            "\u001b[1m12/12\u001b[0m \u001b[32m━━━━━━━━━━━━━━━━━━━━\u001b[0m\u001b[37m\u001b[0m \u001b[1m1s\u001b[0m 41ms/step - accuracy: 1.0000 - loss: 5.1778e-07 - val_accuracy: 0.8958 - val_loss: 1.3750\n",
            "Epoch 85/100\n",
            "\u001b[1m12/12\u001b[0m \u001b[32m━━━━━━━━━━━━━━━━━━━━\u001b[0m\u001b[37m\u001b[0m \u001b[1m1s\u001b[0m 40ms/step - accuracy: 1.0000 - loss: 4.0629e-07 - val_accuracy: 0.8958 - val_loss: 1.3777\n",
            "Epoch 86/100\n",
            "\u001b[1m12/12\u001b[0m \u001b[32m━━━━━━━━━━━━━━━━━━━━\u001b[0m\u001b[37m\u001b[0m \u001b[1m1s\u001b[0m 43ms/step - accuracy: 1.0000 - loss: 4.3617e-07 - val_accuracy: 0.8958 - val_loss: 1.3799\n",
            "Epoch 87/100\n",
            "\u001b[1m12/12\u001b[0m \u001b[32m━━━━━━━━━━━━━━━━━━━━\u001b[0m\u001b[37m\u001b[0m \u001b[1m1s\u001b[0m 39ms/step - accuracy: 1.0000 - loss: 7.4665e-07 - val_accuracy: 0.8958 - val_loss: 1.3830\n",
            "Epoch 88/100\n",
            "\u001b[1m12/12\u001b[0m \u001b[32m━━━━━━━━━━━━━━━━━━━━\u001b[0m\u001b[37m\u001b[0m \u001b[1m1s\u001b[0m 41ms/step - accuracy: 1.0000 - loss: 2.4815e-07 - val_accuracy: 0.8958 - val_loss: 1.3850\n",
            "Epoch 89/100\n",
            "\u001b[1m12/12\u001b[0m \u001b[32m━━━━━━━━━━━━━━━━━━━━\u001b[0m\u001b[37m\u001b[0m \u001b[1m0s\u001b[0m 39ms/step - accuracy: 1.0000 - loss: 5.0083e-07 - val_accuracy: 0.8958 - val_loss: 1.3874\n",
            "Epoch 90/100\n",
            "\u001b[1m12/12\u001b[0m \u001b[32m━━━━━━━━━━━━━━━━━━━━\u001b[0m\u001b[37m\u001b[0m \u001b[1m1s\u001b[0m 38ms/step - accuracy: 1.0000 - loss: 7.7821e-07 - val_accuracy: 0.8958 - val_loss: 1.3897\n",
            "Epoch 91/100\n",
            "\u001b[1m12/12\u001b[0m \u001b[32m━━━━━━━━━━━━━━━━━━━━\u001b[0m\u001b[37m\u001b[0m \u001b[1m0s\u001b[0m 38ms/step - accuracy: 1.0000 - loss: 2.5761e-07 - val_accuracy: 0.8958 - val_loss: 1.3905\n",
            "Epoch 92/100\n",
            "\u001b[1m12/12\u001b[0m \u001b[32m━━━━━━━━━━━━━━━━━━━━\u001b[0m\u001b[37m\u001b[0m \u001b[1m0s\u001b[0m 40ms/step - accuracy: 1.0000 - loss: 4.3310e-07 - val_accuracy: 0.8958 - val_loss: 1.3939\n",
            "Epoch 93/100\n",
            "\u001b[1m12/12\u001b[0m \u001b[32m━━━━━━━━━━━━━━━━━━━━\u001b[0m\u001b[37m\u001b[0m \u001b[1m0s\u001b[0m 39ms/step - accuracy: 1.0000 - loss: 5.8869e-07 - val_accuracy: 0.8958 - val_loss: 1.3968\n",
            "Epoch 94/100\n",
            "\u001b[1m12/12\u001b[0m \u001b[32m━━━━━━━━━━━━━━━━━━━━\u001b[0m\u001b[37m\u001b[0m \u001b[1m0s\u001b[0m 38ms/step - accuracy: 1.0000 - loss: 2.9977e-07 - val_accuracy: 0.8958 - val_loss: 1.3987\n",
            "Epoch 95/100\n",
            "\u001b[1m12/12\u001b[0m \u001b[32m━━━━━━━━━━━━━━━━━━━━\u001b[0m\u001b[37m\u001b[0m \u001b[1m0s\u001b[0m 40ms/step - accuracy: 1.0000 - loss: 3.4963e-07 - val_accuracy: 0.8958 - val_loss: 1.4002\n",
            "Epoch 96/100\n",
            "\u001b[1m12/12\u001b[0m \u001b[32m━━━━━━━━━━━━━━━━━━━━\u001b[0m\u001b[37m\u001b[0m \u001b[1m1s\u001b[0m 42ms/step - accuracy: 1.0000 - loss: 3.3690e-07 - val_accuracy: 0.8958 - val_loss: 1.4025\n",
            "Epoch 97/100\n",
            "\u001b[1m12/12\u001b[0m \u001b[32m━━━━━━━━━━━━━━━━━━━━\u001b[0m\u001b[37m\u001b[0m \u001b[1m1s\u001b[0m 52ms/step - accuracy: 1.0000 - loss: 3.3975e-07 - val_accuracy: 0.8958 - val_loss: 1.4049\n",
            "Epoch 98/100\n",
            "\u001b[1m12/12\u001b[0m \u001b[32m━━━━━━━━━━━━━━━━━━━━\u001b[0m\u001b[37m\u001b[0m \u001b[1m0s\u001b[0m 40ms/step - accuracy: 1.0000 - loss: 1.8835e-07 - val_accuracy: 0.8958 - val_loss: 1.4067\n",
            "Epoch 99/100\n",
            "\u001b[1m12/12\u001b[0m \u001b[32m━━━━━━━━━━━━━━━━━━━━\u001b[0m\u001b[37m\u001b[0m \u001b[1m1s\u001b[0m 39ms/step - accuracy: 1.0000 - loss: 1.7807e-07 - val_accuracy: 0.8958 - val_loss: 1.4091\n",
            "Epoch 100/100\n",
            "\u001b[1m12/12\u001b[0m \u001b[32m━━━━━━━━━━━━━━━━━━━━\u001b[0m\u001b[37m\u001b[0m \u001b[1m1s\u001b[0m 40ms/step - accuracy: 1.0000 - loss: 1.8522e-07 - val_accuracy: 0.8958 - val_loss: 1.4108\n"
          ]
        },
        {
          "output_type": "execute_result",
          "data": {
            "text/plain": [
              "<keras.src.callbacks.history.History at 0x7e4bf88b04d0>"
            ]
          },
          "metadata": {},
          "execution_count": 8
        }
      ]
    },
    {
      "cell_type": "code",
      "source": [
        "predictions = model.predict(X_test)\n",
        "\n",
        "for i in range(min(5, len(X_test))):\n",
        "    cat_prob = predictions[i][0] * 100  # เปลี่ยนเป็นเปอร์เซ็นต์\n",
        "    dog_prob = 100 - dog_prob  # คำนวณเปอร์เซ็นต์ของ Music\n",
        "    print(f\"ตัวอย่าง {i+1}: dog = {dog_prob:.2f}%, cat = {cat_prob:.2f}%\")\n"
      ],
      "metadata": {
        "colab": {
          "base_uri": "https://localhost:8080/"
        },
        "id": "pQElTUUQ0z0L",
        "outputId": "06d4d5ec-d6f0-4063-b25f-fa05b8dc8d4b"
      },
      "execution_count": null,
      "outputs": [
        {
          "output_type": "stream",
          "name": "stdout",
          "text": [
            "\u001b[1m2/2\u001b[0m \u001b[32m━━━━━━━━━━━━━━━━━━━━\u001b[0m\u001b[37m\u001b[0m \u001b[1m0s\u001b[0m 190ms/step\n",
            "ตัวอย่าง 1: dog = 100.00%, cat = 100.00%\n",
            "ตัวอย่าง 2: dog = 0.00%, cat = 0.00%\n",
            "ตัวอย่าง 3: dog = 100.00%, cat = 0.25%\n",
            "ตัวอย่าง 4: dog = 0.00%, cat = 100.00%\n",
            "ตัวอย่าง 5: dog = 100.00%, cat = 0.01%\n"
          ]
        }
      ]
    },
    {
      "cell_type": "code",
      "source": [
        "model.save(\"dog.h5\")\n",
        "print(\"โมเดลถูกบันทึกเรียบร้อยแล้ว 🎉\")\n"
      ],
      "metadata": {
        "colab": {
          "base_uri": "https://localhost:8080/"
        },
        "id": "r8Aut-771U8l",
        "outputId": "95bc86f3-0490-4c0a-e4f0-fb5bca75d01b"
      },
      "execution_count": null,
      "outputs": [
        {
          "output_type": "stream",
          "name": "stderr",
          "text": [
            "WARNING:absl:You are saving your model as an HDF5 file via `model.save()` or `keras.saving.save_model(model)`. This file format is considered legacy. We recommend using instead the native Keras format, e.g. `model.save('my_model.keras')` or `keras.saving.save_model(model, 'my_model.keras')`. \n"
          ]
        },
        {
          "output_type": "stream",
          "name": "stdout",
          "text": [
            "โมเดลถูกบันทึกเรียบร้อยแล้ว 🎉\n"
          ]
        }
      ]
    },
    {
      "cell_type": "code",
      "source": [
        "import os\n",
        "import librosa\n",
        "import numpy as np\n",
        "from tensorflow.keras.models import load_model\n",
        "\n",
        "# โหลดโมเดลที่ฝึกไว้\n",
        "model = load_model(\"dog.h5\")\n",
        "print(\"✅ โหลดโมเดลสำเร็จ\")\n",
        "\n",
        "# ฟังก์ชันแปลงไฟล์เสียงเป็น Mel Spectrogram\n",
        "def extract_features(audio_file):\n",
        "    y, sr = librosa.load(audio_file, sr=None)\n",
        "    mel_spec = librosa.feature.melspectrogram(y=y, sr=sr, n_mels=128, fmax=8000)\n",
        "    log_mel_spec = librosa.power_to_db(mel_spec, ref=np.max)\n",
        "    return log_mel_spec\n",
        "\n",
        "# ระบุพาธไฟล์เสียงที่ต้องการทดสอบ\n",
        "test_audio = \"cat_36.wav\"\n",
        "\n",
        "if not os.path.exists(test_audio):\n",
        "    raise ValueError(f\"❌ ไม่พบไฟล์ {test_audio} โปรดตรวจสอบพาธอีกครั้ง\")\n",
        "\n",
        "# ดึง features จากไฟล์เสียง\n",
        "mel_spec = extract_features(test_audio)\n",
        "#print(model.input_shape)\n",
        "\n",
        "# แสดงขนาดของ Mel Spectrogram ก่อน Padding\n",
        "print(f\"ขนาดของ Mel Spectrogram ก่อน Padding: {mel_spec.shape}\")\n",
        "\n",
        "# ปรับขนาด max_len ให้เหมาะสมกับข้อมูลที่ใช้ฝึกโมเดล\n",
        "max_len = 553  # ขนาดความยาวที่โมเดลคาดหวัง\n",
        "\n",
        "# ทำการ Padding หรือครอบขนาดให้ตรงกับ max_len\n",
        "if mel_spec.shape[1] < max_len:\n",
        "    mel_spec = np.pad(mel_spec, ((0, 0), (0, max_len - mel_spec.shape[1])))\n",
        "elif mel_spec.shape[1] > max_len:\n",
        "    mel_spec = mel_spec[:, :max_len]\n",
        "\n",
        "# แสดงขนาดของ Mel Spectrogram หลังจาก Padding\n",
        "print(f\"ขนาดของ Mel Spectrogram หลัง Padding: {mel_spec.shape}\")\n",
        "\n",
        "# ปรับขนาดให้เหมาะสมกับโมเดล (เพิ่มมิติช่องสัญญาณ)\n",
        "mel_spec = np.expand_dims(mel_spec, axis=-1)  # (128, 1320, 1)\n",
        "\n",
        "# ตรวจสอบข้อมูล\n",
        "print(f\"ข้อมูลหลังปรับขนาด: {mel_spec.shape}\")\n",
        "\n",
        "# ทำการทำนาย\n",
        "prediction = model.predict(np.expand_dims(mel_spec, axis=0))[0][0]\n",
        "\n",
        "# แสดงผลลัพธ์เป็นเปอร์เซ็นต์\n",
        "cat_prob = prediction * 100\n",
        "dog_prob = (1 - prediction) * 100\n",
        "print(f\"🔊 ผลการทำนาย: dog {dog_prob:.2f}% | cat {cat_prob:.2f}%\")\n"
      ],
      "metadata": {
        "colab": {
          "base_uri": "https://localhost:8080/"
        },
        "id": "MlO5xHxV1ZPH",
        "outputId": "32ba7f1f-63c6-44c2-f0af-90f37e7fae65"
      },
      "execution_count": null,
      "outputs": [
        {
          "output_type": "stream",
          "name": "stderr",
          "text": [
            "WARNING:absl:Compiled the loaded model, but the compiled metrics have yet to be built. `model.compile_metrics` will be empty until you train or evaluate the model.\n"
          ]
        },
        {
          "output_type": "stream",
          "name": "stdout",
          "text": [
            "✅ โหลดโมเดลสำเร็จ\n",
            "ขนาดของ Mel Spectrogram ก่อน Padding: (128, 376)\n",
            "ขนาดของ Mel Spectrogram หลัง Padding: (128, 553)\n",
            "ข้อมูลหลังปรับขนาด: (128, 553, 1)\n"
          ]
        },
        {
          "output_type": "stream",
          "name": "stderr",
          "text": [
            "WARNING:tensorflow:6 out of the last 8 calls to <function TensorFlowTrainer.make_predict_function.<locals>.one_step_on_data_distributed at 0x7e4ba19e74c0> triggered tf.function retracing. Tracing is expensive and the excessive number of tracings could be due to (1) creating @tf.function repeatedly in a loop, (2) passing tensors with different shapes, (3) passing Python objects instead of tensors. For (1), please define your @tf.function outside of the loop. For (2), @tf.function has reduce_retracing=True option that can avoid unnecessary retracing. For (3), please refer to https://www.tensorflow.org/guide/function#controlling_retracing and https://www.tensorflow.org/api_docs/python/tf/function for  more details.\n"
          ]
        },
        {
          "output_type": "stream",
          "name": "stdout",
          "text": [
            "\u001b[1m1/1\u001b[0m \u001b[32m━━━━━━━━━━━━━━━━━━━━\u001b[0m\u001b[37m\u001b[0m \u001b[1m0s\u001b[0m 431ms/step\n",
            "🔊 ผลการทำนาย: dog 0.00% | cat 100.00%\n"
          ]
        }
      ]
    }
  ]
}